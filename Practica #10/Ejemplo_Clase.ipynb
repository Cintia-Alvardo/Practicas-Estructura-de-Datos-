{
 "cells": [
  {
   "cell_type": "code",
   "execution_count": null,
   "metadata": {},
   "outputs": [
    {
     "ename": "",
     "evalue": "",
     "output_type": "error",
     "traceback": [
      "\u001b[1;31mLa ejecución de celdas con 'c:\\Users\\MINEDUCYT\\AppData\\Local\\Microsoft\\WindowsApps\\python3.10.exe' requiere el paquete ipykernel.\n",
      "\u001b[1;31mRun the following command to install 'ipykernel' into the Python environment. \n",
      "\u001b[1;31mCommand: 'c:/Users/MINEDUCYT/AppData/Local/Microsoft/WindowsApps/python3.10.exe -m pip install ipykernel -U --user --force-reinstall'"
     ]
    }
   ],
   "source": [
    "#Ejemplo de Clase\n",
    "\n",
    "import pandas as pd\n",
    "import matplotlib.pyplot as plt\n",
    "import random\n",
    "\n",
    "# Generar datos aleatorios para ventas mensuales\n",
    "meses = [\"Ene\", \"Feb\", \"Mar\", \"Abr\", \"May\", \"Jun\", \"Jul\", \"Ago\", \"Sep\", \"Oct\", \"Nov\", \"Dic\"]\n",
    "ventas = [random.randint(1000, 5000) for i in range(12)]\n",
    "\n",
    "# Crear un DataFrame de Pandas con los datos\n",
    "df_ventas = pd.DataFrame({\"Mes\": meses, \"Ventas\": ventas})\n",
    "df_ventas\n",
    "\n",
    "# Paso 2: Realizar el análisis\n",
    "mes_max_ventas = df_ventas[df_ventas[\"Ventas\"] == df_ventas[\"Ventas\"].max()][\"Mes\"].values[0]\n",
    "mes_min_ventas = df_ventas[df_ventas[\"Ventas\"] == df_ventas[\"Ventas\"].min()][\"Mes\"].values[0]\n",
    "\n",
    "# Paso 3: Crear un gráfico de líneas\n",
    "plt.figure(figsize=(10, 6))\n",
    "plt.plot(df_ventas[\"Mes\"], df_ventas[\"Ventas\"], marker='o', linestyle='-', color='b', label='Ventas Mensuales')\n",
    "\n",
    "# Etiquetas y título\n",
    "plt.xlabel(\"Mes\")\n",
    "plt.ylabel(\"Ventas\")\n",
    "plt.title(\"Ventas Mensuales a lo largo del Año\")\n",
    "plt.legend()\n",
    "\n",
    "# Mostrar el gráfico\n",
    "plt.grid(True)\n",
    "plt.tight_layout()\n",
    "plt.show()"
   ]
  },
  {
   "cell_type": "code",
   "execution_count": null,
   "metadata": {},
   "outputs": [],
   "source": []
  }
 ],
 "metadata": {
  "kernelspec": {
   "display_name": "Python 3",
   "language": "python",
   "name": "python3"
  },
  "language_info": {
   "name": "python",
   "version": "3.10.11"
  },
  "orig_nbformat": 4
 },
 "nbformat": 4,
 "nbformat_minor": 2
}
