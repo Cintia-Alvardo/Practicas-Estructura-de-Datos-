{
 "cells": [
  {
   "cell_type": "code",
   "execution_count": 2,
   "metadata": {},
   "outputs": [
    {
     "data": {
      "image/png": "[encoded data removed]",
      "text/plain": [
       "<Figure size 640x480 with 1 Axes>"
      ]
     },
     "metadata": {},
     "output_type": "display_data"
    }
   ],
   "source": [
    "# Gráfico horizontal\n",
    "#Ejercicio 1\n",
    "class SaleDataError(Exception):\n",
    "    def __init__(self, mensaje):\n",
    "        super().__init__(mensaje)\n",
    "import pandas as pd\n",
    "import random\n",
    "\n",
    "meses = [\"Ene\", \"Feb\", \"Mar\", \"Abr\", \"May\", \"Jun\", \"Jul\", \"Ago\", \"Sep\", \"Oct\", \"Nov\", \"Dic\"]\n",
    "ventas = [random.randint(1000, 3000) for i in range(12)]\n",
    "\n",
    "\n",
    "df_ventas = pd.DataFrame({\"Mes\": meses, \"Ventas\": ventas})\n",
    "\n",
    "def analyze_sales_data(df):\n",
    "    try:\n",
    "        mes_max_ventas = df[df[\"Ventas\"] == df[\"Ventas\"].max()][\"Mes\"].values[0]\n",
    "        mes_min_ventas = df[df[\"Ventas\"] == df[\"Ventas\"].min()][\"Mes\"].values[0]\n",
    "        return mes_max_ventas, mes_min_ventas\n",
    "    except Exception:\n",
    "        raise SaleDataError(\"No se pudieron analizar los datos de ventas.\")\n",
    "\n",
    "import matplotlib.pyplot as plt\n",
    "\n",
    "def plot_sales(df):\n",
    "    try:\n",
    "        df.plot(kind='barh', x='Mes', y='Ventas', color = ['g', 'y', 'c', 'r'])\n",
    "        plt.xlabel('Ventas')\n",
    "        plt.ylabel('Mes')\n",
    "        plt.title('Ventas mensuales')\n",
    "        plt.show()\n",
    "    except Exception:\n",
    "        raise SaleDataError(\"No se pudo crear el gráfico de ventas.\")\n",
    "\n",
    "mes_max_ventas, mes_min_ventas = analyze_sales_data(df_ventas)\n",
    "plot_sales(df_ventas)"
   ]
  },
  {
   "cell_type": "code",
   "execution_count": null,
   "metadata": {},
   "outputs": [],
   "source": [
    "#Gráfico de áreas\n",
    "#Ejercicio 2\n",
    "\n",
    "import pandas as pd\n",
    "import matplotlib.pyplot as plt\n",
    "\n",
    "notas = {\n",
    "    \"grupo_1\": [60, 70, 80, 90],\n",
    "    \"grupo_2\": [50, 60, 70, 80],\n",
    "    \"grupo_3\": [40, 50, 60, 70],\n",
    "}\n",
    "\n",
    "try:\n",
    "    df = pd.DataFrame(notas)\n",
    "except KeyError as e:\n",
    "    print(f\"Error: El diccionario no tiene datos.\")\n",
    "    exit(1)\n",
    "\n",
    "df.plot.area(figsize=(10, 6))\n",
    "plt.title(\"Relación entre los puntajes de los dos exámenes\")\n",
    "plt.xlabel(\"Puntaje de examen 1\")\n",
    "plt.ylabel(\"Puntaje de examen 2\")\n",
    "plt.show()"
   ]
  }
 ],
 "metadata": {
  "interpreter": {
   "hash": "00ebb8e2879c2cf15e9209c2ee4ee1f0a61ab3b8c19ef5b9d6c35775417399b1"
  },
  "kernelspec": {
   "display_name": "Python 3.11.1 64-bit",
   "language": "python",
   "name": "python3"
  },
  "language_info": {
   "codemirror_mode": {
    "name": "ipython",
    "version": 3
   },
   "file_extension": ".py",
   "mimetype": "text/x-python",
   "name": "python",
   "nbconvert_exporter": "python",
   "pygments_lexer": "ipython3",
   "version": "3.11.1"
  },
  "orig_nbformat": 4
 },
 "nbformat": 4,
 "nbformat_minor": 2
}
