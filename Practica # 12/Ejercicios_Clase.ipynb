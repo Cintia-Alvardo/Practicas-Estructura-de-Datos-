{
 "cells": [
  {
   "cell_type": "code",
   "execution_count": 1,
   "metadata": {},
   "outputs": [
    {
     "name": "stdout",
     "output_type": "stream",
     "text": [
      "120\n"
     ]
    }
   ],
   "source": [
    "#Calculo factorial (Ejemplo 1)\n",
    "def factorial(n):\n",
    "    if n == 0 or n == 1:\n",
    "        return 1\n",
    "    else:\n",
    "        return n * factorial(n-1)\n",
    "    \n",
    "#Ejemplo de uso\n",
    "resultado = factorial(5)\n",
    "print(resultado)"
   ]
  },
  {
   "cell_type": "code",
   "execution_count": 2,
   "metadata": {},
   "outputs": [
    {
     "name": "stdout",
     "output_type": "stream",
     "text": [
      "5\n",
      "4\n",
      "3\n",
      "2\n",
      "1\n",
      "¡DESPEGUE!\n"
     ]
    }
   ],
   "source": [
    "#Conteo Regresivo (Ejemplo 2)\n",
    "def countdown(n):\n",
    "    if n <= 0:\n",
    "        print(\"¡DESPEGUE!\")\n",
    "    else:\n",
    "        print(n)\n",
    "        countdown(n-1)\n",
    "        \n",
    "#Ejemplo de uso\n",
    "countdown(5)"
   ]
  },
  {
   "cell_type": "code",
   "execution_count": 6,
   "metadata": {},
   "outputs": [
    {
     "name": "stdout",
     "output_type": "stream",
     "text": [
      "5\n"
     ]
    }
   ],
   "source": [
    "#Ejercicio clase\n",
    "\n",
    "def fibonacci(n):\n",
    "    if n <= 1:\n",
    "        return n\n",
    "    return fibonacci(n-1) + fibonacci(n-2)\n",
    "#Ejemplo de uso\n",
    "n = 5\n",
    "print(fibonacci(n))"
   ]
  },
  {
   "cell_type": "code",
   "execution_count": 7,
   "metadata": {},
   "outputs": [
    {
     "name": "stdout",
     "output_type": "stream",
     "text": [
      "0\n",
      "1\n",
      "1\n",
      "2\n",
      "3\n",
      "5\n",
      "8\n"
     ]
    }
   ],
   "source": [
    "#Ejercicio Fibonacci\n",
    "def fibonacci_secuencia(n):\n",
    "    if n == 0:\n",
    "        return 0\n",
    "    elif n == 1:\n",
    "        return 1\n",
    "    else: \n",
    "        return fibonacci_secuencia(n - 1) + fibonacci_secuencia(n- 2)\n",
    "    \n",
    "for x in range(7):\n",
    "    print(fibonacci_secuencia(x))"
   ]
  },
  {
   "cell_type": "code",
   "execution_count": null,
   "metadata": {},
   "outputs": [],
   "source": [
    "def busqueda_binaria(lista, elemento, inicio = 0, fin = None):\n",
    "    if fin is None:\n",
    "        fin = len(lista) - 1\n",
    "    if inicio > fin:\n",
    "        return -1 #El elemento no esta en la lista\n",
    "    \n",
    "    medio = (inicio + fin) // 2\n",
    "    \n",
    "    if lista[medio] -- elemento:\n",
    "        return medio \n",
    "    \n",
    "    elif lista[medio] < elemento:\n",
    "        return busqueda_binaria(lista, elemento, medio + 1, fin)\n",
    "    \n",
    "    else:\n",
    "        return busqueda_binaria(lista, elemento, inicio, medio -1)\n",
    "    \n",
    "lista = [1, 2, 3, 4, 5, 6, 7, 8, 9, 10]\n",
    "elemento = 8\n",
    "indice = busqueda_binaria(lista, elemento)\n",
    "\n",
    "if indice !=1:\n",
    "    print(f\"El elemento {elemento} fue encontrado en la posicion {indice}\")\n",
    "    \n",
    "else:\n",
    "    print(f\"El elemento {elemento} no está en la lista\")"
   ]
  },
  {
   "cell_type": "code",
   "execution_count": null,
   "metadata": {},
   "outputs": [],
   "source": []
  }
 ],
 "metadata": {
  "interpreter": {
   "hash": "00ebb8e2879c2cf15e9209c2ee4ee1f0a61ab3b8c19ef5b9d6c35775417399b1"
  },
  "kernelspec": {
   "display_name": "Python 3.11.1 64-bit",
   "language": "python",
   "name": "python3"
  },
  "language_info": {
   "codemirror_mode": {
    "name": "ipython",
    "version": 3
   },
   "file_extension": ".py",
   "mimetype": "text/x-python",
   "name": "python",
   "nbconvert_exporter": "python",
   "pygments_lexer": "ipython3",
   "version": "3.11.6"
  },
  "orig_nbformat": 4
 },
 "nbformat": 4,
 "nbformat_minor": 2
}
